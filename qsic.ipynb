{
  "nbformat": 4,
  "nbformat_minor": 0,
  "metadata": {
    "colab": {
      "name": "qsic.ipynb",
      "provenance": [],
      "collapsed_sections": []
    },
    "kernelspec": {
      "name": "python3",
      "display_name": "Python 3"
    },
    "language_info": {
      "name": "python"
    }
  },
  "cells": [
    {
      "cell_type": "code",
      "execution_count": 1,
      "metadata": {
        "colab": {
          "base_uri": "https://localhost:8080/"
        },
        "id": "M6NtxpJiYbdz",
        "outputId": "0b8be022-ebf2-4ff7-ce23-cf26bb06c4a9"
      },
      "outputs": [
        {
          "output_type": "stream",
          "name": "stdout",
          "text": [
            "Cloning into 'test'...\n",
            "remote: Enumerating objects: 11, done.\u001b[K\n",
            "remote: Counting objects: 100% (3/3), done.\u001b[K\n",
            "remote: Compressing objects: 100% (3/3), done.\u001b[K\n",
            "remote: Total 11 (delta 0), reused 3 (delta 0), pack-reused 8\u001b[K\n",
            "Unpacking objects: 100% (11/11), done.\n"
          ]
        }
      ],
      "source": [
        "!git clone https://github.com/vandana2807/test.git"
      ]
    },
    {
      "cell_type": "code",
      "source": [
        "!pip install dask"
      ],
      "metadata": {
        "colab": {
          "base_uri": "https://localhost:8080/"
        },
        "id": "lt2AdFDqxa9G",
        "outputId": "70c36cb1-5a65-41b0-c74a-5897994b4793"
      },
      "execution_count": 2,
      "outputs": [
        {
          "output_type": "stream",
          "name": "stdout",
          "text": [
            "Requirement already satisfied: dask in /usr/local/lib/python3.7/dist-packages (2.12.0)\n"
          ]
        }
      ]
    },
    {
      "cell_type": "code",
      "source": [
        "!pip install 'fsspec>=0.3.3'"
      ],
      "metadata": {
        "colab": {
          "base_uri": "https://localhost:8080/"
        },
        "id": "snJp-oaax_oS",
        "outputId": "f9d84bd1-9542-4f6d-882e-c03ff1d5001d"
      },
      "execution_count": 3,
      "outputs": [
        {
          "output_type": "stream",
          "name": "stdout",
          "text": [
            "Collecting fsspec>=0.3.3\n",
            "  Downloading fsspec-2021.11.1-py3-none-any.whl (132 kB)\n",
            "\u001b[?25l\r\u001b[K     |██▌                             | 10 kB 20.4 MB/s eta 0:00:01\r\u001b[K     |█████                           | 20 kB 22.5 MB/s eta 0:00:01\r\u001b[K     |███████▍                        | 30 kB 17.9 MB/s eta 0:00:01\r\u001b[K     |█████████▉                      | 40 kB 15.8 MB/s eta 0:00:01\r\u001b[K     |████████████▎                   | 51 kB 7.1 MB/s eta 0:00:01\r\u001b[K     |██████████████▉                 | 61 kB 8.2 MB/s eta 0:00:01\r\u001b[K     |█████████████████▎              | 71 kB 7.9 MB/s eta 0:00:01\r\u001b[K     |███████████████████▊            | 81 kB 8.8 MB/s eta 0:00:01\r\u001b[K     |██████████████████████▏         | 92 kB 9.1 MB/s eta 0:00:01\r\u001b[K     |████████████████████████▋       | 102 kB 6.9 MB/s eta 0:00:01\r\u001b[K     |███████████████████████████     | 112 kB 6.9 MB/s eta 0:00:01\r\u001b[K     |█████████████████████████████▋  | 122 kB 6.9 MB/s eta 0:00:01\r\u001b[K     |████████████████████████████████| 132 kB 6.9 MB/s \n",
            "\u001b[?25hInstalling collected packages: fsspec\n",
            "Successfully installed fsspec-2021.11.1\n"
          ]
        }
      ]
    },
    {
      "cell_type": "code",
      "source": [
        "#importing necessary libraries\n",
        "import pandas as pd\n",
        "import numpy as np\n",
        "import matplotlib.pyplot as plt\n",
        "import dask.dataframe as dd\n",
        "import re"
      ],
      "metadata": {
        "id": "_G_9-bRXyGI2"
      },
      "execution_count": 4,
      "outputs": []
    },
    {
      "cell_type": "code",
      "source": [
        "#reading the data\n",
        "df = pd.read_csv(\"/content/test/test_data.tsv\", sep='\\t')\n",
        "#in case the file is big\n",
        "#df = dd.read_csv(\"/content/test/test_data.tsv\", sep='\\t')"
      ],
      "metadata": {
        "id": "6F3DWiNTDMfe"
      },
      "execution_count": 5,
      "outputs": []
    },
    {
      "cell_type": "code",
      "source": [
        "#extracting data where there is no refund\n",
        "df=df.loc[df['units']>0]\n",
        "#extracting data where store id is 1 or 3\n",
        "df=df.loc[(df['store_id']==1) | (df['store_id']==3)]\n",
        "#taking only necessary columns\n",
        "df=df[['product_name','store_id','product_id']]\n",
        "df=df.reset_index(drop=True)\n",
        "\n",
        "#for dask once all operations are done we call\n",
        "df=df.compute()"
      ],
      "metadata": {
        "id": "4CXCZFDeDSDz"
      },
      "execution_count": 6,
      "outputs": []
    },
    {
      "cell_type": "code",
      "source": [
        "#some preprocessing for 'product_name' columns \n",
        "for i in range(0,len(df)):\n",
        "  z=re.sub(r\"[^\\w\\s]\", ' ', df.loc[i,'product_name'])\n",
        "  df.loc[i,'product_name']=re.sub(r\"\\_|-\",\" \",z)"
      ],
      "metadata": {
        "id": "6oeWRhvF5veL"
      },
      "execution_count": 7,
      "outputs": []
    },
    {
      "cell_type": "code",
      "source": [
        "#check once for any duplications\n",
        "np.unique(df['product_id']),np.unique(df['product_name'])"
      ],
      "metadata": {
        "colab": {
          "base_uri": "https://localhost:8080/"
        },
        "id": "wqwC51V5yQSH",
        "outputId": "1b6fce7a-c206-41fa-f6a5-5a7c25978043"
      },
      "execution_count": 8,
      "outputs": [
        {
          "output_type": "execute_result",
          "data": {
            "text/plain": [
              "(array([0, 1, 2, 3, 4]),\n",
              " array(['bread 700g', 'coffee large', 'doughnut cold', 'milk 2L',\n",
              "        'snickers 37g'], dtype=object))"
            ]
          },
          "metadata": {},
          "execution_count": 8
        }
      ]
    },
    {
      "cell_type": "code",
      "source": [
        "#1st way\n",
        "dt=df.groupby(['product_name', 'store_id'])['store_id'].sum().unstack().fillna(0)"
      ],
      "metadata": {
        "id": "9qB0pw4Xw42g"
      },
      "execution_count": 9,
      "outputs": []
    },
    {
      "cell_type": "code",
      "source": [
        "# Very simple one-liner using our dt DataFrame.\n",
        "dt.plot(kind='bar')\n",
        "# Just add a title and rotate the x-axis labels to be horizontal.\n",
        "plt.title(\"sale_profiles_plot\")"
      ],
      "metadata": {
        "colab": {
          "base_uri": "https://localhost:8080/",
          "height": 375
        },
        "id": "6-ART_j8w45a",
        "outputId": "d1af0d8b-8bf8-4c3f-d1b2-91ab21c9eeeb"
      },
      "execution_count": 10,
      "outputs": [
        {
          "output_type": "execute_result",
          "data": {
            "text/plain": [
              "Text(0.5, 1.0, 'sale_profiles_plot')"
            ]
          },
          "metadata": {},
          "execution_count": 10
        },
        {
          "output_type": "display_data",
          "data": {
            "image/png": "[encoded data removed]",
            "text/plain": [
              "<Figure size 432x288 with 1 Axes>"
            ]
          },
          "metadata": {
            "needs_background": "light"
          }
        }
      ]
    },
    {
      "cell_type": "code",
      "source": [
        "#second approach\n",
        "s1=[]\n",
        "s2=[]\n",
        "for i in np.unique(df['product_name']):\n",
        "  dt=df.loc[df['product_name']==i]\n",
        "  s1.append(len(dt[dt['store_id']==1]))\n",
        "  s2.append(len(dt[dt['store_id']==3]))\n",
        "  #s1.append(len(dt.loc[(dt['product_name']==np.unique(dt['product_name'][i])) & (dt['store_id']==3)]))"
      ],
      "metadata": {
        "id": "vfUxMlQgHaFc"
      },
      "execution_count": 11,
      "outputs": []
    },
    {
      "cell_type": "code",
      "source": [
        "plotdata = pd.DataFrame({\n",
        "    \"1\":s1,\n",
        "    \"3\":s2\n",
        "    },\n",
        "    index=list(np.unique(df['product_name']))\n",
        ")"
      ],
      "metadata": {
        "id": "ZD0mPqQHOmkj"
      },
      "execution_count": 12,
      "outputs": []
    },
    {
      "cell_type": "code",
      "source": [
        "plotdata.plot(kind=\"bar\")\n",
        "plt.legend(title = \"store_id\")\n",
        "plt.title(\"sale_profiles_plot\")"
      ],
      "metadata": {
        "id": "7k3Au0MCINBH",
        "colab": {
          "base_uri": "https://localhost:8080/",
          "height": 360
        },
        "outputId": "f43f2cdd-05be-4176-d2a1-ac5cc6333022"
      },
      "execution_count": 13,
      "outputs": [
        {
          "output_type": "execute_result",
          "data": {
            "text/plain": [
              "Text(0.5, 1.0, 'sale_profiles_plot')"
            ]
          },
          "metadata": {},
          "execution_count": 13
        },
        {
          "output_type": "display_data",
          "data": {
            "image/png": "[encoded data removed]",
            "text/plain": [
              "<Figure size 432x288 with 1 Axes>"
            ]
          },
          "metadata": {
            "needs_background": "light"
          }
        }
      ]
    },
    {
      "cell_type": "code",
      "source": [
        ""
      ],
      "metadata": {
        "id": "SYznAT9Nz2Ky"
      },
      "execution_count": null,
      "outputs": []
    }
  ]
}